{
  "nbformat": 4,
  "nbformat_minor": 0,
  "metadata": {
    "colab": {
      "name": "LinearRegressionWithoutLib.ipynb",
      "provenance": [],
      "collapsed_sections": []
    },
    "kernelspec": {
      "name": "python3",
      "display_name": "Python 3"
    },
    "language_info": {
      "name": "python"
    }
  },
  "cells": [
    {
      "cell_type": "code",
      "execution_count": null,
      "metadata": {
        "id": "DsUY_SCIjBuB",
        "colab": {
          "base_uri": "https://localhost:8080/"
        },
        "outputId": "d16d7819-4c70-4378-d5ec-d74182300cf7"
      },
      "outputs": [
        {
          "output_type": "stream",
          "name": "stdout",
          "text": [
            "4.5\n",
            "9.166666666666666\n"
          ]
        }
      ],
      "source": [
        "import statistics\n",
        "\n",
        "\n",
        "\n",
        "x = [0,1,2,3,4,5,6,7,8,9]\n",
        "y = [11,16,18,25,29,31,33,34,38,41]\n",
        "\n"
      ]
    },
    {
      "cell_type": "markdown",
      "source": [
        "# **Mean**\n"
      ],
      "metadata": {
        "id": "LqrWdQ3rjM2y"
      }
    },
    {
      "cell_type": "code",
      "source": [
        "def mean (x,y):\n",
        "    sum1 = 0\n",
        "    sum2 = 0\n",
        "    for i in range(0,len(x)):\n",
        "        sum1 = sum1 + x[i]\n",
        "\n",
        "    for i in range(0,len(y)):\n",
        "        sum2 = sum2 + y[i]\n",
        "\n",
        "    result1 = sum1 / len(x)\n",
        "    result2 = sum2 / len(y)\n",
        "\n",
        "    return result1,result2 \n",
        "\n",
        "xMean, yMean = mean(x,y)\n",
        "print (xMean)\n",
        "print (yMean)   "
      ],
      "metadata": {
        "colab": {
          "base_uri": "https://localhost:8080/"
        },
        "id": "fHextbVhjHlz",
        "outputId": "c80b1215-6f84-470d-d4e4-285fc05e3698"
      },
      "execution_count": null,
      "outputs": [
        {
          "output_type": "stream",
          "name": "stdout",
          "text": [
            "4.5\n",
            "27.6\n"
          ]
        }
      ]
    },
    {
      "cell_type": "markdown",
      "source": [
        "# **Variance**"
      ],
      "metadata": {
        "id": "VeXe1glkjUK6"
      }
    },
    {
      "cell_type": "code",
      "source": [
        "def Variance (xMean, yMean, x, y) :\n",
        "  total1 = 0\n",
        "  total2 = 0\n",
        "  X_variance = []\n",
        "  Y_variance = []\n",
        "  co_variance = []\n",
        "  X_variance_Square = []\n",
        "  Y_variance_Square = []\n",
        "  for i in range(0, len(x)):\n",
        "    X_variance.append(x[i] - xMean)\n",
        "    #total1 = total1 + X_variance\n",
        "\n",
        "  for i in range(0, len(y)):\n",
        "    Y_variance.append(y[i] - yMean)\n",
        "    # total2 = total2 + Y_variance\n",
        "\n",
        "  for i in range(0,len(X_variance)):\n",
        "    co_variance.append(X_variance[i]*Y_variance[i])\n",
        "    X_variance_Square.append(X_variance[i]**2)\n",
        "    Y_variance_Square.append(Y_variance[i]**2)\n",
        "\n",
        "  \n",
        "  return X_variance,Y_variance,co_variance,X_variance_Square,Y_variance_Square\n",
        "\n",
        "X_variance, Y_variance, co_variance, X_variance_Square, Y_variance_Square  = Variance(xMean, yMean , x,y)\n",
        "print(X_variance)\n",
        "print(Y_variance)\n",
        "print(co_variance)\n",
        "print(X_variance_Square)\n",
        "print(Y_variance_Square)\n"
      ],
      "metadata": {
        "colab": {
          "base_uri": "https://localhost:8080/"
        },
        "id": "hGEBHxmtjTMw",
        "outputId": "a373d3d7-b954-4692-d06e-8d935b37b127"
      },
      "execution_count": null,
      "outputs": [
        {
          "output_type": "stream",
          "name": "stdout",
          "text": [
            "[-4.5, -3.5, -2.5, -1.5, -0.5, 0.5, 1.5, 2.5, 3.5, 4.5]\n",
            "[-16.6, -11.600000000000001, -9.600000000000001, -2.6000000000000014, 1.3999999999999986, 3.3999999999999986, 5.399999999999999, 6.399999999999999, 10.399999999999999, 13.399999999999999]\n",
            "[74.7, 40.60000000000001, 24.000000000000004, 3.900000000000002, -0.6999999999999993, 1.6999999999999993, 8.099999999999998, 15.999999999999996, 36.39999999999999, 60.3]\n",
            "[20.25, 12.25, 6.25, 2.25, 0.25, 0.25, 2.25, 6.25, 12.25, 20.25]\n",
            "[275.56000000000006, 134.56000000000003, 92.16000000000003, 6.760000000000008, 1.959999999999996, 11.55999999999999, 29.159999999999986, 40.95999999999998, 108.15999999999997, 179.55999999999997]\n"
          ]
        }
      ]
    },
    {
      "cell_type": "code",
      "source": [
        "co_total = 0\n",
        "square_total = 0\n",
        "for i in range(0, len(co_variance)):\n",
        "  co_total = co_total + co_variance[i]\n",
        "  square_total = square_total + X_variance_Square[i]\n",
        "\n",
        "print(co_total)\n",
        "print(square_total)"
      ],
      "metadata": {
        "colab": {
          "base_uri": "https://localhost:8080/"
        },
        "id": "YGPG13XItU3Q",
        "outputId": "66dec4e1-2407-4806-9d82-08936ac89154"
      },
      "execution_count": null,
      "outputs": [
        {
          "output_type": "stream",
          "name": "stdout",
          "text": [
            "265.0\n",
            "82.5\n"
          ]
        }
      ]
    },
    {
      "cell_type": "markdown",
      "source": [
        "# **Finding b0 and b1**\n"
      ],
      "metadata": {
        "id": "BMKhyRMkvQwX"
      }
    },
    {
      "cell_type": "code",
      "source": [
        "b1 = co_total/square_total\n",
        "print(b1)\n",
        "\n",
        "b0 = yMean - b1*xMean\n",
        "print(b0)\n"
      ],
      "metadata": {
        "colab": {
          "base_uri": "https://localhost:8080/"
        },
        "id": "dyO60VyAvgbG",
        "outputId": "c0b8bc7c-ff5b-4f5c-8d0c-a59b5ad4847d"
      },
      "execution_count": null,
      "outputs": [
        {
          "output_type": "stream",
          "name": "stdout",
          "text": [
            "3.212121212121212\n",
            "13.145454545454548\n"
          ]
        }
      ]
    },
    {
      "cell_type": "code",
      "source": [
        "Y_predictedGrade = []\n",
        "for i in range(0,len(y)):\n",
        "  Y_predictedGrade.append(b0 + b1*x[i])\n",
        "\n",
        "print(Y_predictedGrade)"
      ],
      "metadata": {
        "colab": {
          "base_uri": "https://localhost:8080/"
        },
        "id": "YK-9PftG0JtA",
        "outputId": "483813e5-47e6-475a-ab20-1aa616f8aed8"
      },
      "execution_count": null,
      "outputs": [
        {
          "output_type": "stream",
          "name": "stdout",
          "text": [
            "[13.145454545454548, 16.35757575757576, 19.56969696969697, 22.781818181818185, 25.993939393939396, 29.206060606060607, 32.41818181818182, 35.63030303030303, 38.842424242424244, 42.054545454545455]\n"
          ]
        }
      ]
    },
    {
      "cell_type": "markdown",
      "source": [
        "# **Calculating Error**"
      ],
      "metadata": {
        "id": "Q7G5bZ8N1UDU"
      }
    },
    {
      "cell_type": "code",
      "source": [
        "Y_error = []\n",
        "for i in range(0,len(y)):\n",
        "  Y_error.append(y[i] - Y_predictedGrade[i])\n",
        "\n",
        "print(Y_error)\n",
        "\n",
        "sse = 0\n",
        "Y_error_Square = []\n",
        "for i in range(0,len(Y_error)):\n",
        "  Y_error_Square.append(Y_error[i]**2)\n",
        "print(Y_error_Square)\n",
        "for i in range(0,len(Y_error_Square)):\n",
        "  sse = sse + Y_error_Square[i]\n",
        "\n",
        "print(sse)"
      ],
      "metadata": {
        "colab": {
          "base_uri": "https://localhost:8080/"
        },
        "id": "LfUL5Mwk1eVo",
        "outputId": "6c9e9230-7cf5-42c7-dca1-b365dabf4b07"
      },
      "execution_count": null,
      "outputs": [
        {
          "output_type": "stream",
          "name": "stdout",
          "text": [
            "[-2.145454545454548, -0.3575757575757592, -1.5696969696969703, 2.218181818181815, 3.006060606060604, 1.793939393939393, 0.5818181818181785, -1.6303030303030326, -0.8424242424242436, -1.0545454545454547]\n",
            "[4.602975206611582, 0.1278604224058781, 2.4639485766758513, 4.920330578512384, 9.036400367309447, 3.218218549127637, 0.33851239669421096, 2.657887970615251, 0.7096786042240608, 1.1120661157024796]\n",
            "29.187878787878777\n"
          ]
        }
      ]
    },
    {
      "cell_type": "markdown",
      "source": [
        "# **Finding SST**\n"
      ],
      "metadata": {
        "id": "-1m92rA77B0y"
      }
    },
    {
      "cell_type": "code",
      "source": [
        "sst = 0 \n",
        "Y_total_variance_Square = []\n",
        "\n",
        "for i in range(0,len(y)):\n",
        "  sst = sst + Y_variance_Square[i]\n",
        "\n",
        "print(sst)\n",
        "\n",
        "ssr = sst - sse\n",
        "\n",
        "print(ssr)\n",
        "\n"
      ],
      "metadata": {
        "colab": {
          "base_uri": "https://localhost:8080/"
        },
        "id": "8wQJqjoh7FGl",
        "outputId": "b7b8d91b-3a83-4515-fe9d-7d3f6b689faf"
      },
      "execution_count": null,
      "outputs": [
        {
          "output_type": "stream",
          "name": "stdout",
          "text": [
            "880.4\n",
            "851.2121212121212\n"
          ]
        }
      ]
    },
    {
      "cell_type": "markdown",
      "source": [
        "# **Finding R Square**"
      ],
      "metadata": {
        "id": "m-PmZp_ZTRcf"
      }
    },
    {
      "cell_type": "code",
      "source": [
        "r_square = ssr/sst\n",
        "\n",
        "print (\"The Value of R square : \",r_square)"
      ],
      "metadata": {
        "colab": {
          "base_uri": "https://localhost:8080/"
        },
        "id": "KtWt6tvBTQfm",
        "outputId": "7a17d53f-25d9-43a3-f308-ac40b45f1fb4"
      },
      "execution_count": null,
      "outputs": [
        {
          "output_type": "stream",
          "name": "stdout",
          "text": [
            "The Value of R square :  0.9668470254567484\n"
          ]
        }
      ]
    }
  ]
}