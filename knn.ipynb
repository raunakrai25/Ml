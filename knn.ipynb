{
 "cells": [
  {
   "cell_type": "code",
   "execution_count": null,
   "id": "0200cab9-9693-4286-8c2d-9b6508c25d4b",
   "metadata": {},
   "outputs": [],
   "source": [
    "import pandas as pd\n",
    "#import numpy as np\n",
    "import math\n",
    "#import itertools\n",
    "import collections"
   ]
  },
  {
   "cell_type": "code",
   "execution_count": null,
   "id": "23489bf8-b172-4e39-a70f-8963a3cd6a9b",
   "metadata": {},
   "outputs": [],
   "source": [
    "data = pd.read_csv(\"Downloads\\Iris.csv\")\n",
    "data"
   ]
  },
  {
   "cell_type": "code",
   "execution_count": null,
   "id": "99e60ea4-9d90-4dca-9801-0d55baa5aee3",
   "metadata": {},
   "outputs": [],
   "source": [
    "row = len(data.axes[0])\n",
    "print(row)"
   ]
  },
  {
   "cell_type": "code",
   "execution_count": null,
   "id": "454c0aec-44b9-498a-af33-7e261bd30f3f",
   "metadata": {},
   "outputs": [],
   "source": [
    "k = int(math.sqrt(row))\n",
    "\n",
    "print(k)"
   ]
  },
  {
   "cell_type": "code",
   "execution_count": null,
   "id": "07ab58d1-edf6-4a36-bc01-3b5b00c81348",
   "metadata": {},
   "outputs": [],
   "source": [
    "x = data.iloc[::,1]\n",
    "y = data.iloc[::,2]\n",
    "species = data.iloc[::,-1]\n",
    "print(species)\n",
    "print(x)\n",
    "print(y)"
   ]
  },
  {
   "cell_type": "code",
   "execution_count": null,
   "id": "3540fa43-fdda-45fb-b40f-84c8b9e6056d",
   "metadata": {},
   "outputs": [],
   "source": [
    "x1 = float(input(\"Enter the Value of x1 : \"))"
   ]
  },
  {
   "cell_type": "code",
   "execution_count": null,
   "id": "f354c8d9-e147-4c40-88b9-d4bfc8246798",
   "metadata": {},
   "outputs": [],
   "source": [
    "y1 = float(input(\"Enter the Value of y1 : \"))"
   ]
  },
  {
   "cell_type": "code",
   "execution_count": null,
   "id": "2b696628-1391-4833-8291-48f4047ef7a6",
   "metadata": {},
   "outputs": [],
   "source": [
    "distance = []\n",
    "for i in range(0,len(x)):\n",
    "    xDis = (x1-x[i])**2\n",
    "    yDis = (y1-y[i])**2\n",
    "    xyDis = math.sqrt(xDis + yDis)\n",
    "    distance.append(xyDis)\n",
    "print(distance)"
   ]
  },
  {
   "cell_type": "code",
   "execution_count": null,
   "id": "38069fab-020c-494c-9b5c-ca2004f882ef",
   "metadata": {},
   "outputs": [],
   "source": [
    "dic = dict(zip(distance,species))\n",
    "print(dic)\n",
    "\n",
    "sorted(dic.items(), key = lambda dic : dic[0])"
   ]
  },
  {
   "cell_type": "code",
   "execution_count": null,
   "id": "5ed36fec-6f86-48f3-92d0-fe93e8befaf9",
   "metadata": {},
   "outputs": [],
   "source": [
    "out = dict(itertools.islice(sorted(dic.items(), key = lambda dic : dic[0]), k))\n",
    "print(out)"
   ]
  },
  {
   "cell_type": "code",
   "execution_count": null,
   "id": "b4f6bec7-a565-4217-a233-201746069b6f",
   "metadata": {},
   "outputs": [],
   "source": [
    "import collections\n",
    "freq=dict(collections.Counter(list(out.values())))\n",
    "print(freq)\n",
    "\n",
    "\n",
    "Keymax = max(zip(freq.values(), freq.keys()))[1]\n",
    "print(\"Class Lable \"+Keymax)"
   ]
  }
 ],
 "metadata": {
  "kernelspec": {
   "display_name": "Python 3 (ipykernel)",
   "language": "python",
   "name": "python3"
  },
  "language_info": {
   "codemirror_mode": {
    "name": "ipython",
    "version": 3
   },
   "file_extension": ".py",
   "mimetype": "text/x-python",
   "name": "python",
   "nbconvert_exporter": "python",
   "pygments_lexer": "ipython3",
   "version": "3.9.7"
  }
 },
 "nbformat": 4,
 "nbformat_minor": 5
}
